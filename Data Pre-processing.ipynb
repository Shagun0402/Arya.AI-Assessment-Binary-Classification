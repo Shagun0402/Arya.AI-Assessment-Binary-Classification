{
 "cells": [
  {
   "cell_type": "markdown",
   "id": "656aa30f",
   "metadata": {},
   "source": [
    "##### Importing External libraries"
   ]
  },
  {
   "cell_type": "code",
   "execution_count": 35,
   "id": "8c721605",
   "metadata": {},
   "outputs": [],
   "source": [
    "import pandas as pd\n",
    "import numpy as np\n",
    "import matplotlib.pyplot as plt\n",
    "%matplotlib inline\n",
    "import seaborn as sns\n",
    "from sklearn.model_selection import train_test_split\n",
    "from sklearn.ensemble import RandomForestClassifier\n",
    "from sklearn.preprocessing import StandardScaler\n",
    "from sklearn.linear_model import LogisticRegression\n",
    "from sklearn.svm import LinearSVC\n",
    "from sklearn.neighbors import KNeighborsClassifier\n",
    "from sklearn.naive_bayes import GaussianNB\n",
    "from sklearn.tree import DecisionTreeClassifier\n",
    "from xgboost import XGBClassifier\n",
    "from sklearn.metrics import roc_auc_score,log_loss\n"
   ]
  },
  {
   "cell_type": "markdown",
   "id": "3af5b8e3",
   "metadata": {},
   "source": [
    "###### Data Exploration on Training Set"
   ]
  },
  {
   "cell_type": "code",
   "execution_count": 2,
   "id": "6b2b69db",
   "metadata": {},
   "outputs": [
    {
     "name": "stdout",
     "output_type": "stream",
     "text": [
      "Shape of Data: (3910, 58)\n"
     ]
    },
    {
     "data": {
      "text/html": [
       "<div>\n",
       "<style scoped>\n",
       "    .dataframe tbody tr th:only-of-type {\n",
       "        vertical-align: middle;\n",
       "    }\n",
       "\n",
       "    .dataframe tbody tr th {\n",
       "        vertical-align: top;\n",
       "    }\n",
       "\n",
       "    .dataframe thead th {\n",
       "        text-align: right;\n",
       "    }\n",
       "</style>\n",
       "<table border=\"1\" class=\"dataframe\">\n",
       "  <thead>\n",
       "    <tr style=\"text-align: right;\">\n",
       "      <th></th>\n",
       "      <th>X1</th>\n",
       "      <th>X2</th>\n",
       "      <th>X3</th>\n",
       "      <th>X4</th>\n",
       "      <th>X5</th>\n",
       "      <th>X6</th>\n",
       "      <th>X7</th>\n",
       "      <th>X8</th>\n",
       "      <th>X9</th>\n",
       "      <th>X10</th>\n",
       "      <th>...</th>\n",
       "      <th>X49</th>\n",
       "      <th>X50</th>\n",
       "      <th>X51</th>\n",
       "      <th>X52</th>\n",
       "      <th>X53</th>\n",
       "      <th>X54</th>\n",
       "      <th>X55</th>\n",
       "      <th>X56</th>\n",
       "      <th>X57</th>\n",
       "      <th>Y</th>\n",
       "    </tr>\n",
       "  </thead>\n",
       "  <tbody>\n",
       "    <tr>\n",
       "      <th>0</th>\n",
       "      <td>0.00</td>\n",
       "      <td>0.00</td>\n",
       "      <td>4.34</td>\n",
       "      <td>0.00</td>\n",
       "      <td>0.00</td>\n",
       "      <td>0.00</td>\n",
       "      <td>0.00</td>\n",
       "      <td>0.00</td>\n",
       "      <td>0.0</td>\n",
       "      <td>0.00</td>\n",
       "      <td>...</td>\n",
       "      <td>0.0</td>\n",
       "      <td>0.000</td>\n",
       "      <td>0.0</td>\n",
       "      <td>1.342</td>\n",
       "      <td>0.000</td>\n",
       "      <td>0.000</td>\n",
       "      <td>1.200</td>\n",
       "      <td>2</td>\n",
       "      <td>12</td>\n",
       "      <td>0</td>\n",
       "    </tr>\n",
       "    <tr>\n",
       "      <th>1</th>\n",
       "      <td>0.00</td>\n",
       "      <td>0.56</td>\n",
       "      <td>0.56</td>\n",
       "      <td>0.00</td>\n",
       "      <td>1.12</td>\n",
       "      <td>0.56</td>\n",
       "      <td>2.25</td>\n",
       "      <td>0.00</td>\n",
       "      <td>0.0</td>\n",
       "      <td>0.56</td>\n",
       "      <td>...</td>\n",
       "      <td>0.0</td>\n",
       "      <td>0.083</td>\n",
       "      <td>0.0</td>\n",
       "      <td>0.503</td>\n",
       "      <td>0.000</td>\n",
       "      <td>0.083</td>\n",
       "      <td>16.304</td>\n",
       "      <td>148</td>\n",
       "      <td>375</td>\n",
       "      <td>1</td>\n",
       "    </tr>\n",
       "    <tr>\n",
       "      <th>2</th>\n",
       "      <td>0.00</td>\n",
       "      <td>0.00</td>\n",
       "      <td>0.00</td>\n",
       "      <td>0.00</td>\n",
       "      <td>0.00</td>\n",
       "      <td>0.00</td>\n",
       "      <td>0.00</td>\n",
       "      <td>0.00</td>\n",
       "      <td>0.0</td>\n",
       "      <td>0.00</td>\n",
       "      <td>...</td>\n",
       "      <td>0.0</td>\n",
       "      <td>0.000</td>\n",
       "      <td>0.0</td>\n",
       "      <td>0.000</td>\n",
       "      <td>0.000</td>\n",
       "      <td>0.000</td>\n",
       "      <td>1.000</td>\n",
       "      <td>1</td>\n",
       "      <td>5</td>\n",
       "      <td>0</td>\n",
       "    </tr>\n",
       "    <tr>\n",
       "      <th>3</th>\n",
       "      <td>0.64</td>\n",
       "      <td>0.00</td>\n",
       "      <td>0.64</td>\n",
       "      <td>0.00</td>\n",
       "      <td>1.93</td>\n",
       "      <td>0.00</td>\n",
       "      <td>0.00</td>\n",
       "      <td>0.00</td>\n",
       "      <td>0.0</td>\n",
       "      <td>0.00</td>\n",
       "      <td>...</td>\n",
       "      <td>0.0</td>\n",
       "      <td>0.000</td>\n",
       "      <td>0.0</td>\n",
       "      <td>0.462</td>\n",
       "      <td>0.370</td>\n",
       "      <td>0.000</td>\n",
       "      <td>2.440</td>\n",
       "      <td>22</td>\n",
       "      <td>122</td>\n",
       "      <td>1</td>\n",
       "    </tr>\n",
       "    <tr>\n",
       "      <th>4</th>\n",
       "      <td>0.58</td>\n",
       "      <td>0.00</td>\n",
       "      <td>0.00</td>\n",
       "      <td>35.46</td>\n",
       "      <td>0.58</td>\n",
       "      <td>0.00</td>\n",
       "      <td>0.58</td>\n",
       "      <td>0.58</td>\n",
       "      <td>0.0</td>\n",
       "      <td>0.00</td>\n",
       "      <td>...</td>\n",
       "      <td>0.0</td>\n",
       "      <td>0.000</td>\n",
       "      <td>0.0</td>\n",
       "      <td>0.239</td>\n",
       "      <td>0.239</td>\n",
       "      <td>0.000</td>\n",
       "      <td>3.338</td>\n",
       "      <td>123</td>\n",
       "      <td>207</td>\n",
       "      <td>1</td>\n",
       "    </tr>\n",
       "  </tbody>\n",
       "</table>\n",
       "<p>5 rows × 58 columns</p>\n",
       "</div>"
      ],
      "text/plain": [
       "     X1    X2    X3     X4    X5    X6    X7    X8   X9   X10  ...  X49  \\\n",
       "0  0.00  0.00  4.34   0.00  0.00  0.00  0.00  0.00  0.0  0.00  ...  0.0   \n",
       "1  0.00  0.56  0.56   0.00  1.12  0.56  2.25  0.00  0.0  0.56  ...  0.0   \n",
       "2  0.00  0.00  0.00   0.00  0.00  0.00  0.00  0.00  0.0  0.00  ...  0.0   \n",
       "3  0.64  0.00  0.64   0.00  1.93  0.00  0.00  0.00  0.0  0.00  ...  0.0   \n",
       "4  0.58  0.00  0.00  35.46  0.58  0.00  0.58  0.58  0.0  0.00  ...  0.0   \n",
       "\n",
       "     X50  X51    X52    X53    X54     X55  X56  X57  Y  \n",
       "0  0.000  0.0  1.342  0.000  0.000   1.200    2   12  0  \n",
       "1  0.083  0.0  0.503  0.000  0.083  16.304  148  375  1  \n",
       "2  0.000  0.0  0.000  0.000  0.000   1.000    1    5  0  \n",
       "3  0.000  0.0  0.462  0.370  0.000   2.440   22  122  1  \n",
       "4  0.000  0.0  0.239  0.239  0.000   3.338  123  207  1  \n",
       "\n",
       "[5 rows x 58 columns]"
      ]
     },
     "execution_count": 2,
     "metadata": {},
     "output_type": "execute_result"
    }
   ],
   "source": [
    "# Loading the train data\n",
    "df = pd.read_csv('../Binary Classification/dataset/training_set.csv', index_col=0)\n",
    "#shape of data\n",
    "print('Shape of Data:' , df.shape)\n",
    "\n",
    "# Peek the first 5 rows of data\n",
    "df.head(5)"
   ]
  },
  {
   "cell_type": "code",
   "execution_count": 3,
   "id": "60f7464a",
   "metadata": {},
   "outputs": [
    {
     "data": {
      "text/plain": [
       "0    0.607673\n",
       "1    0.392327\n",
       "Name: Y, dtype: float64"
      ]
     },
     "execution_count": 3,
     "metadata": {},
     "output_type": "execute_result"
    }
   ],
   "source": [
    "# Checking Y distribution \n",
    "df['Y'].value_counts(normalize=True)"
   ]
  },
  {
   "cell_type": "code",
   "execution_count": 4,
   "id": "38bf1973",
   "metadata": {},
   "outputs": [
    {
     "data": {
      "text/plain": [
       "X1     0\n",
       "X2     0\n",
       "X3     0\n",
       "X4     0\n",
       "X5     0\n",
       "X6     0\n",
       "X7     0\n",
       "X8     0\n",
       "X9     0\n",
       "X10    0\n",
       "X11    0\n",
       "X12    0\n",
       "X13    0\n",
       "X14    0\n",
       "X15    0\n",
       "X16    0\n",
       "X17    0\n",
       "X18    0\n",
       "X19    0\n",
       "X20    0\n",
       "X21    0\n",
       "X22    0\n",
       "X23    0\n",
       "X24    0\n",
       "X25    0\n",
       "X26    0\n",
       "X27    0\n",
       "X28    0\n",
       "X29    0\n",
       "X30    0\n",
       "X31    0\n",
       "X32    0\n",
       "X33    0\n",
       "X34    0\n",
       "X35    0\n",
       "X36    0\n",
       "X37    0\n",
       "X38    0\n",
       "X39    0\n",
       "X40    0\n",
       "X41    0\n",
       "X42    0\n",
       "X43    0\n",
       "X44    0\n",
       "X45    0\n",
       "X46    0\n",
       "X47    0\n",
       "X48    0\n",
       "X49    0\n",
       "X50    0\n",
       "X51    0\n",
       "X52    0\n",
       "X53    0\n",
       "X54    0\n",
       "X55    0\n",
       "X56    0\n",
       "X57    0\n",
       "Y      0\n",
       "dtype: int64"
      ]
     },
     "execution_count": 4,
     "metadata": {},
     "output_type": "execute_result"
    }
   ],
   "source": [
    "# Checking for null and missing values\n",
    "df.isna().sum()"
   ]
  },
  {
   "cell_type": "code",
   "execution_count": 5,
   "id": "40a30df0",
   "metadata": {},
   "outputs": [
    {
     "data": {
      "text/html": [
       "<div>\n",
       "<style scoped>\n",
       "    .dataframe tbody tr th:only-of-type {\n",
       "        vertical-align: middle;\n",
       "    }\n",
       "\n",
       "    .dataframe tbody tr th {\n",
       "        vertical-align: top;\n",
       "    }\n",
       "\n",
       "    .dataframe thead th {\n",
       "        text-align: right;\n",
       "    }\n",
       "</style>\n",
       "<table border=\"1\" class=\"dataframe\">\n",
       "  <thead>\n",
       "    <tr style=\"text-align: right;\">\n",
       "      <th></th>\n",
       "      <th>X1</th>\n",
       "      <th>X2</th>\n",
       "      <th>X3</th>\n",
       "      <th>X4</th>\n",
       "      <th>X5</th>\n",
       "      <th>X6</th>\n",
       "      <th>X7</th>\n",
       "      <th>X8</th>\n",
       "      <th>X9</th>\n",
       "      <th>X10</th>\n",
       "      <th>...</th>\n",
       "      <th>X49</th>\n",
       "      <th>X50</th>\n",
       "      <th>X51</th>\n",
       "      <th>X52</th>\n",
       "      <th>X53</th>\n",
       "      <th>X54</th>\n",
       "      <th>X55</th>\n",
       "      <th>X56</th>\n",
       "      <th>X57</th>\n",
       "      <th>Y</th>\n",
       "    </tr>\n",
       "  </thead>\n",
       "  <tbody>\n",
       "    <tr>\n",
       "      <th>count</th>\n",
       "      <td>3910.000000</td>\n",
       "      <td>3910.000000</td>\n",
       "      <td>3910.000000</td>\n",
       "      <td>3910.000000</td>\n",
       "      <td>3910.000000</td>\n",
       "      <td>3910.000000</td>\n",
       "      <td>3910.000000</td>\n",
       "      <td>3910.000000</td>\n",
       "      <td>3910.000000</td>\n",
       "      <td>3910.000000</td>\n",
       "      <td>...</td>\n",
       "      <td>3910.000000</td>\n",
       "      <td>3910.000000</td>\n",
       "      <td>3910.000000</td>\n",
       "      <td>3910.000000</td>\n",
       "      <td>3910.000000</td>\n",
       "      <td>3910.000000</td>\n",
       "      <td>3910.000000</td>\n",
       "      <td>3910.000000</td>\n",
       "      <td>3910.000000</td>\n",
       "      <td>3910.000000</td>\n",
       "    </tr>\n",
       "    <tr>\n",
       "      <th>mean</th>\n",
       "      <td>0.102990</td>\n",
       "      <td>0.206419</td>\n",
       "      <td>0.284419</td>\n",
       "      <td>0.062074</td>\n",
       "      <td>0.311309</td>\n",
       "      <td>0.095974</td>\n",
       "      <td>0.112320</td>\n",
       "      <td>0.106041</td>\n",
       "      <td>0.091146</td>\n",
       "      <td>0.244345</td>\n",
       "      <td>...</td>\n",
       "      <td>0.037493</td>\n",
       "      <td>0.139252</td>\n",
       "      <td>0.015876</td>\n",
       "      <td>0.272971</td>\n",
       "      <td>0.077820</td>\n",
       "      <td>0.043828</td>\n",
       "      <td>5.047150</td>\n",
       "      <td>52.338107</td>\n",
       "      <td>283.059079</td>\n",
       "      <td>0.392327</td>\n",
       "    </tr>\n",
       "    <tr>\n",
       "      <th>std</th>\n",
       "      <td>0.296322</td>\n",
       "      <td>1.253828</td>\n",
       "      <td>0.504352</td>\n",
       "      <td>1.369361</td>\n",
       "      <td>0.656195</td>\n",
       "      <td>0.261455</td>\n",
       "      <td>0.389516</td>\n",
       "      <td>0.398694</td>\n",
       "      <td>0.271417</td>\n",
       "      <td>0.667065</td>\n",
       "      <td>...</td>\n",
       "      <td>0.235054</td>\n",
       "      <td>0.276309</td>\n",
       "      <td>0.083600</td>\n",
       "      <td>0.858634</td>\n",
       "      <td>0.256991</td>\n",
       "      <td>0.452862</td>\n",
       "      <td>31.397035</td>\n",
       "      <td>204.445218</td>\n",
       "      <td>578.339858</td>\n",
       "      <td>0.488331</td>\n",
       "    </tr>\n",
       "    <tr>\n",
       "      <th>min</th>\n",
       "      <td>0.000000</td>\n",
       "      <td>0.000000</td>\n",
       "      <td>0.000000</td>\n",
       "      <td>0.000000</td>\n",
       "      <td>0.000000</td>\n",
       "      <td>0.000000</td>\n",
       "      <td>0.000000</td>\n",
       "      <td>0.000000</td>\n",
       "      <td>0.000000</td>\n",
       "      <td>0.000000</td>\n",
       "      <td>...</td>\n",
       "      <td>0.000000</td>\n",
       "      <td>0.000000</td>\n",
       "      <td>0.000000</td>\n",
       "      <td>0.000000</td>\n",
       "      <td>0.000000</td>\n",
       "      <td>0.000000</td>\n",
       "      <td>1.000000</td>\n",
       "      <td>1.000000</td>\n",
       "      <td>1.000000</td>\n",
       "      <td>0.000000</td>\n",
       "    </tr>\n",
       "    <tr>\n",
       "      <th>25%</th>\n",
       "      <td>0.000000</td>\n",
       "      <td>0.000000</td>\n",
       "      <td>0.000000</td>\n",
       "      <td>0.000000</td>\n",
       "      <td>0.000000</td>\n",
       "      <td>0.000000</td>\n",
       "      <td>0.000000</td>\n",
       "      <td>0.000000</td>\n",
       "      <td>0.000000</td>\n",
       "      <td>0.000000</td>\n",
       "      <td>...</td>\n",
       "      <td>0.000000</td>\n",
       "      <td>0.000000</td>\n",
       "      <td>0.000000</td>\n",
       "      <td>0.000000</td>\n",
       "      <td>0.000000</td>\n",
       "      <td>0.000000</td>\n",
       "      <td>1.580750</td>\n",
       "      <td>6.000000</td>\n",
       "      <td>35.000000</td>\n",
       "      <td>0.000000</td>\n",
       "    </tr>\n",
       "    <tr>\n",
       "      <th>50%</th>\n",
       "      <td>0.000000</td>\n",
       "      <td>0.000000</td>\n",
       "      <td>0.000000</td>\n",
       "      <td>0.000000</td>\n",
       "      <td>0.000000</td>\n",
       "      <td>0.000000</td>\n",
       "      <td>0.000000</td>\n",
       "      <td>0.000000</td>\n",
       "      <td>0.000000</td>\n",
       "      <td>0.000000</td>\n",
       "      <td>...</td>\n",
       "      <td>0.000000</td>\n",
       "      <td>0.066000</td>\n",
       "      <td>0.000000</td>\n",
       "      <td>0.000000</td>\n",
       "      <td>0.000000</td>\n",
       "      <td>0.000000</td>\n",
       "      <td>2.263500</td>\n",
       "      <td>15.000000</td>\n",
       "      <td>94.000000</td>\n",
       "      <td>0.000000</td>\n",
       "    </tr>\n",
       "    <tr>\n",
       "      <th>75%</th>\n",
       "      <td>0.000000</td>\n",
       "      <td>0.000000</td>\n",
       "      <td>0.430000</td>\n",
       "      <td>0.000000</td>\n",
       "      <td>0.387500</td>\n",
       "      <td>0.000000</td>\n",
       "      <td>0.000000</td>\n",
       "      <td>0.000000</td>\n",
       "      <td>0.000000</td>\n",
       "      <td>0.170000</td>\n",
       "      <td>...</td>\n",
       "      <td>0.000000</td>\n",
       "      <td>0.188000</td>\n",
       "      <td>0.000000</td>\n",
       "      <td>0.317250</td>\n",
       "      <td>0.054000</td>\n",
       "      <td>0.000000</td>\n",
       "      <td>3.714000</td>\n",
       "      <td>43.000000</td>\n",
       "      <td>264.000000</td>\n",
       "      <td>1.000000</td>\n",
       "    </tr>\n",
       "    <tr>\n",
       "      <th>max</th>\n",
       "      <td>4.340000</td>\n",
       "      <td>14.280000</td>\n",
       "      <td>4.540000</td>\n",
       "      <td>42.810000</td>\n",
       "      <td>9.090000</td>\n",
       "      <td>3.570000</td>\n",
       "      <td>7.270000</td>\n",
       "      <td>11.110000</td>\n",
       "      <td>3.230000</td>\n",
       "      <td>18.180000</td>\n",
       "      <td>...</td>\n",
       "      <td>4.385000</td>\n",
       "      <td>9.752000</td>\n",
       "      <td>2.777000</td>\n",
       "      <td>32.478000</td>\n",
       "      <td>6.003000</td>\n",
       "      <td>19.829000</td>\n",
       "      <td>1102.500000</td>\n",
       "      <td>9989.000000</td>\n",
       "      <td>10062.000000</td>\n",
       "      <td>1.000000</td>\n",
       "    </tr>\n",
       "  </tbody>\n",
       "</table>\n",
       "<p>8 rows × 58 columns</p>\n",
       "</div>"
      ],
      "text/plain": [
       "                X1           X2           X3           X4           X5  \\\n",
       "count  3910.000000  3910.000000  3910.000000  3910.000000  3910.000000   \n",
       "mean      0.102990     0.206419     0.284419     0.062074     0.311309   \n",
       "std       0.296322     1.253828     0.504352     1.369361     0.656195   \n",
       "min       0.000000     0.000000     0.000000     0.000000     0.000000   \n",
       "25%       0.000000     0.000000     0.000000     0.000000     0.000000   \n",
       "50%       0.000000     0.000000     0.000000     0.000000     0.000000   \n",
       "75%       0.000000     0.000000     0.430000     0.000000     0.387500   \n",
       "max       4.340000    14.280000     4.540000    42.810000     9.090000   \n",
       "\n",
       "                X6           X7           X8           X9          X10  ...  \\\n",
       "count  3910.000000  3910.000000  3910.000000  3910.000000  3910.000000  ...   \n",
       "mean      0.095974     0.112320     0.106041     0.091146     0.244345  ...   \n",
       "std       0.261455     0.389516     0.398694     0.271417     0.667065  ...   \n",
       "min       0.000000     0.000000     0.000000     0.000000     0.000000  ...   \n",
       "25%       0.000000     0.000000     0.000000     0.000000     0.000000  ...   \n",
       "50%       0.000000     0.000000     0.000000     0.000000     0.000000  ...   \n",
       "75%       0.000000     0.000000     0.000000     0.000000     0.170000  ...   \n",
       "max       3.570000     7.270000    11.110000     3.230000    18.180000  ...   \n",
       "\n",
       "               X49          X50          X51          X52          X53  \\\n",
       "count  3910.000000  3910.000000  3910.000000  3910.000000  3910.000000   \n",
       "mean      0.037493     0.139252     0.015876     0.272971     0.077820   \n",
       "std       0.235054     0.276309     0.083600     0.858634     0.256991   \n",
       "min       0.000000     0.000000     0.000000     0.000000     0.000000   \n",
       "25%       0.000000     0.000000     0.000000     0.000000     0.000000   \n",
       "50%       0.000000     0.066000     0.000000     0.000000     0.000000   \n",
       "75%       0.000000     0.188000     0.000000     0.317250     0.054000   \n",
       "max       4.385000     9.752000     2.777000    32.478000     6.003000   \n",
       "\n",
       "               X54          X55          X56           X57            Y  \n",
       "count  3910.000000  3910.000000  3910.000000   3910.000000  3910.000000  \n",
       "mean      0.043828     5.047150    52.338107    283.059079     0.392327  \n",
       "std       0.452862    31.397035   204.445218    578.339858     0.488331  \n",
       "min       0.000000     1.000000     1.000000      1.000000     0.000000  \n",
       "25%       0.000000     1.580750     6.000000     35.000000     0.000000  \n",
       "50%       0.000000     2.263500    15.000000     94.000000     0.000000  \n",
       "75%       0.000000     3.714000    43.000000    264.000000     1.000000  \n",
       "max      19.829000  1102.500000  9989.000000  10062.000000     1.000000  \n",
       "\n",
       "[8 rows x 58 columns]"
      ]
     },
     "execution_count": 5,
     "metadata": {},
     "output_type": "execute_result"
    }
   ],
   "source": [
    "# Getting insights in data\n",
    "df.describe()"
   ]
  },
  {
   "cell_type": "markdown",
   "id": "badcce18",
   "metadata": {},
   "source": [
    "##### Defining Exploratory Variables and Target Variables"
   ]
  },
  {
   "cell_type": "code",
   "execution_count": 6,
   "id": "7eacb6d2",
   "metadata": {},
   "outputs": [],
   "source": [
    "# Setting up x and Y values\n",
    "X = df.drop(['Y'], axis=1)\n",
    "y = df['Y']"
   ]
  },
  {
   "cell_type": "markdown",
   "id": "e3665b88",
   "metadata": {},
   "source": [
    "###### Splitting Training Set into training and test sets"
   ]
  },
  {
   "cell_type": "code",
   "execution_count": 7,
   "id": "ec6a5880",
   "metadata": {},
   "outputs": [],
   "source": [
    "# Splitting data into training and validation sets\n",
    "X_train, X_test,y_train, y_test= train_test_split(X,y, test_size=0.2, stratify=y, random_state=42)"
   ]
  },
  {
   "cell_type": "code",
   "execution_count": 8,
   "id": "9085d08b",
   "metadata": {},
   "outputs": [
    {
     "data": {
      "text/plain": [
       "(3128, 57)"
      ]
     },
     "execution_count": 8,
     "metadata": {},
     "output_type": "execute_result"
    }
   ],
   "source": [
    "# Shape of training data\n",
    "X_train.shape"
   ]
  },
  {
   "cell_type": "markdown",
   "id": "dbc33633",
   "metadata": {},
   "source": [
    "##### Selecting features using Random Forest Classifier"
   ]
  },
  {
   "cell_type": "code",
   "execution_count": 9,
   "id": "bd8ae2ef",
   "metadata": {},
   "outputs": [],
   "source": [
    "cls = RandomForestClassifier(100, max_depth=None, n_jobs=-1)\n",
    "cls.fit(X_train, y_train)\n",
    "feature_imp = cls.feature_importances_"
   ]
  },
  {
   "cell_type": "code",
   "execution_count": 10,
   "id": "e40d615b",
   "metadata": {},
   "outputs": [
    {
     "data": {
      "image/png": "[encoded data removed]",
      "text/plain": [
       "<Figure size 432x288 with 1 Axes>"
      ]
     },
     "metadata": {
      "needs_background": "light"
     },
     "output_type": "display_data"
    }
   ],
   "source": [
    "# Visualizing the features of importance\n",
    "x = [ x for x in range(X_train.shape[1])]\n",
    "plt.plot(x, feature_imp)\n",
    "plt.xlabel('Features')\n",
    "plt.ylabel('FI')\n",
    "plt.title('Feature Importance')\n",
    "plt.show()"
   ]
  },
  {
   "cell_type": "code",
   "execution_count": 11,
   "id": "9efb3cf5",
   "metadata": {},
   "outputs": [
    {
     "name": "stdout",
     "output_type": "stream",
     "text": [
      "Features with greater importance than average: 15\n"
     ]
    }
   ],
   "source": [
    "# Selecting features with greater importance than average\n",
    "mean_imp = np.mean(feature_imp)\n",
    "top_imp = len(np.where(feature_imp > mean_imp)[0])\n",
    "print('Features with greater importance than average:' , top_imp)"
   ]
  },
  {
   "cell_type": "code",
   "execution_count": 12,
   "id": "f81169f0",
   "metadata": {},
   "outputs": [
    {
     "data": {
      "image/png": "[encoded data removed]",
      "text/plain": [
       "<Figure size 432x288 with 1 Axes>"
      ]
     },
     "metadata": {
      "needs_background": "light"
     },
     "output_type": "display_data"
    }
   ],
   "source": [
    "# Cummulative Distribution Function plot for Feature Importance\n",
    "plt.plot(np.cumsum(sorted(feature_imp, reverse=True)))\n",
    "plt.title('CDF Plot- Feature Importance')\n",
    "plt.xlabel('Features')\n",
    "plt.ylabel('Feature Importance')\n",
    "plt.show()"
   ]
  },
  {
   "cell_type": "code",
   "execution_count": 13,
   "id": "5f91a168",
   "metadata": {},
   "outputs": [],
   "source": [
    "# Ranking features based on their importances\n",
    "imp = sorted(zip(X.columns, feature_imp), key=lambda x: x[1], reverse=True)\n",
    "# Extracting top 30 features based on cdf plot\n",
    "features = [x[0] for x in imp[:30]]"
   ]
  },
  {
   "cell_type": "code",
   "execution_count": 14,
   "id": "962baf4e",
   "metadata": {},
   "outputs": [
    {
     "name": "stdout",
     "output_type": "stream",
     "text": [
      "Shape of new X_train data:  (3128, 40)\n",
      "Shape of new X_test data: (782, 40)\n"
     ]
    }
   ],
   "source": [
    "X_train_final = X_train[features]\n",
    "X_test_final = X_test[features]\n",
    "\n",
    "# Shape of X_train_final\n",
    "print('Shape of new X_train data: ', X_train_final.shape)\n",
    "print('Shape of new X_test data:' , X_test_final.shape)"
   ]
  },
  {
   "cell_type": "markdown",
   "id": "6ffdbc14",
   "metadata": {},
   "source": [
    "###### Applying Normalization of Data for numerical stability of data using StandardScaler"
   ]
  },
  {
   "cell_type": "code",
   "execution_count": 15,
   "id": "818b3e7f",
   "metadata": {},
   "outputs": [],
   "source": [
    "scaler = StandardScaler()\n",
    "scaler.fit(X_train_final)\n",
    "\n",
    "# Transforming the data\n",
    "X_train_final = pd.DataFrame(scaler.transform(X_train_final), columns=X_train_final.columns)\n",
    "X_test_final = pd.DataFrame(scaler.transform(X_test_final), columns=X_test_final.columns)"
   ]
  },
  {
   "cell_type": "markdown",
   "id": "d2a43b4e",
   "metadata": {},
   "source": [
    "### Model Training\n",
    "\n",
    "1. Random Model\n",
    "2. Logistic Regression\n",
    "3. Naive-Bayes Classifier\n",
    "4. Support Vector Machine\n",
    "5. K- Nearest Neighbors\n",
    "6. Decision Tree\n",
    "7. Random Forest Classifier\n",
    "8. XG Boost Classifier"
   ]
  },
  {
   "cell_type": "code",
   "execution_count": 16,
   "id": "0e0c2f9e",
   "metadata": {},
   "outputs": [],
   "source": [
    "## 1. Random Model\n",
    "\n",
    "y_pred_train = np.random.rand(len(X_train_final))\n",
    "y_pred_test = np.random.rand(len(X_test_final))"
   ]
  },
  {
   "cell_type": "code",
   "execution_count": 17,
   "id": "a4078a2e",
   "metadata": {},
   "outputs": [
    {
     "name": "stdout",
     "output_type": "stream",
     "text": [
      "Train Log-loss: 1.0462431257650466\n",
      "Test Log-loss 0.9978214918721443\n",
      "\n",
      "\n",
      "Train AUC Score: 0.4870571701849539\n",
      "Test AUC Score: 0.49435967769586836\n"
     ]
    }
   ],
   "source": [
    "## Logloss\n",
    "print('Train Log-loss:' , log_loss(y_train, y_pred_train))\n",
    "print('Test Log-loss', log_loss(y_test,y_pred_test))\n",
    "\n",
    "## AUC Score\n",
    "print('\\n')\n",
    "print('Train AUC Score:', roc_auc_score(y_train, y_pred_train))\n",
    "print('Test AUC Score:', roc_auc_score(y_test, y_pred_test))"
   ]
  },
  {
   "cell_type": "code",
   "execution_count": 18,
   "id": "96fbf57e",
   "metadata": {},
   "outputs": [],
   "source": [
    "# 2. Logistic Regression\n",
    "\n",
    "cls = LogisticRegression(C=1, penalty='l2', max_iter=250, random_state=42)\n",
    "cls.fit(X_train_final, y_train)\n",
    "\n",
    "y_train_pred = cls.predict(X_train_final)\n",
    "y_train_probab = cls.predict_proba(X_train_final)[:,1]\n",
    "\n",
    "y_test_pred = cls.predict(X_test_final)\n",
    "y_test_probab = cls.predict_proba(X_test_final)[:,1]\n"
   ]
  },
  {
   "cell_type": "code",
   "execution_count": 19,
   "id": "2610a98c",
   "metadata": {},
   "outputs": [
    {
     "name": "stdout",
     "output_type": "stream",
     "text": [
      "Train Log-loss: 2.079386041256884\n",
      "Test Log-loss 2.539948617183178\n",
      "\n",
      "\n",
      "Train AUC Score: 0.9542551919013157\n",
      "Test AUC Score: 0.9359369106806104\n"
     ]
    }
   ],
   "source": [
    "## Logloss\n",
    "print('Train Log-loss:' , log_loss(y_train, y_train_probab))\n",
    "print('Test Log-loss', log_loss(y_test,y_test_probab))\n",
    "\n",
    "## AUC Score\n",
    "print('\\n')\n",
    "print('Train AUC Score:', roc_auc_score(y_train, y_train_probab))\n",
    "print('Test AUC Score:', roc_auc_score(y_test, y_test_probab))"
   ]
  },
  {
   "cell_type": "code",
   "execution_count": 20,
   "id": "2105c584",
   "metadata": {},
   "outputs": [],
   "source": [
    "# 3. Naive Bayes \n",
    "\n",
    "cls = GaussianNB()\n",
    "cls.fit(X_train_final, y_train)\n",
    "\n",
    "y_train_pred = cls.predict(X_train_final)\n",
    "y_train_probab = cls.predict_proba(X_train_final)[:,1]\n",
    "\n",
    "y_test_pred = cls.predict(X_test_final)\n",
    "y_test_probab = cls.predict_proba(X_test_final)[:,1]\n"
   ]
  },
  {
   "cell_type": "code",
   "execution_count": 21,
   "id": "202d27bf",
   "metadata": {},
   "outputs": [
    {
     "name": "stdout",
     "output_type": "stream",
     "text": [
      "Train Log-loss: 0.2045100932276941\n",
      "Test Log-loss 0.3182997146231641\n",
      "\n",
      "\n",
      "Train AUC Score: 0.9750463767407622\n",
      "Test AUC Score: 0.9608640493742499\n"
     ]
    }
   ],
   "source": [
    "## Logloss\n",
    "print('Train Log-loss:' , log_loss(y_train, y_train_probab))\n",
    "print('Test Log-loss', log_loss(y_test,y_test_probab))\n",
    "\n",
    "## AUC Score\n",
    "print('\\n')\n",
    "print('Train AUC Score:', roc_auc_score(y_train, y_train_probab))\n",
    "print('Test AUC Score:', roc_auc_score(y_test, y_test_probab))"
   ]
  },
  {
   "cell_type": "code",
   "execution_count": 32,
   "id": "b18f20f1",
   "metadata": {},
   "outputs": [
    {
     "name": "stderr",
     "output_type": "stream",
     "text": [
      "C:\\Users\\shagu\\anaconda3\\lib\\site-packages\\sklearn\\svm\\_base.py:985: ConvergenceWarning: Liblinear failed to converge, increase the number of iterations.\n",
      "  warnings.warn(\"Liblinear failed to converge, increase \"\n"
     ]
    }
   ],
   "source": [
    "# 4. Support Vector Machine\n",
    "cls = LinearSVC(penalty='l2', max_iter=250, random_state=42, tol=1e-5)\n",
    "cls.fit(X_train_final, y_train)\n",
    "\n",
    "y_train_pred = cls.predict(X_train_final)\n",
    "y_train_probab = cls._predict_proba_lr(X_train_final)[:,1]\n",
    "\n",
    "y_test_pred = cls.predict(X_test_final)\n",
    "y_test_probab = cls._predict_proba_lr(X_test_final)[:,1]"
   ]
  },
  {
   "cell_type": "code",
   "execution_count": 33,
   "id": "3ffe494f",
   "metadata": {},
   "outputs": [
    {
     "name": "stdout",
     "output_type": "stream",
     "text": [
      "Train Log-loss: 0.3015570524619252\n",
      "Test Log-loss 0.34965542231444574\n",
      "\n",
      "\n",
      "Train AUC Score: 0.9739269899126569\n",
      "Test AUC Score: 0.9570581176067204\n"
     ]
    }
   ],
   "source": [
    "## Logloss\n",
    "print('Train Log-loss:' , log_loss(y_train, y_train_probab))\n",
    "print('Test Log-loss', log_loss(y_test,y_test_probab))\n",
    "\n",
    "## AUC Score\n",
    "print('\\n')\n",
    "print('Train AUC Score:', roc_auc_score(y_train, y_train_probab))\n",
    "print('Test AUC Score:', roc_auc_score(y_test, y_test_probab))"
   ]
  },
  {
   "cell_type": "code",
   "execution_count": 36,
   "id": "0bca0b2a",
   "metadata": {},
   "outputs": [],
   "source": [
    "# 5. K-Nearest Neighbors\n",
    "cls = KNeighborsClassifier()\n",
    "cls.fit(X_train_final, y_train)\n",
    "\n",
    "y_train_pred = cls.predict(X_train_final)\n",
    "y_train_probab = cls.predict_proba(X_train_final)[:,1]\n",
    "\n",
    "y_test_pred = cls.predict(X_test_final)\n",
    "y_test_probab = cls.predict_proba(X_test_final)[:,1]\n"
   ]
  },
  {
   "cell_type": "code",
   "execution_count": 37,
   "id": "1d95b5de",
   "metadata": {},
   "outputs": [
    {
     "name": "stdout",
     "output_type": "stream",
     "text": [
      "Train Log-loss: 0.1460293894671316\n",
      "Test Log-loss 1.1047096924176398\n",
      "\n",
      "\n",
      "Train AUC Score: 0.9844801367786954\n",
      "Test AUC Score: 0.9398765643751071\n"
     ]
    }
   ],
   "source": [
    "## Logloss\n",
    "print('Train Log-loss:' , log_loss(y_train, y_train_probab))\n",
    "print('Test Log-loss', log_loss(y_test,y_test_probab))\n",
    "\n",
    "## AUC Score\n",
    "print('\\n')\n",
    "print('Train AUC Score:', roc_auc_score(y_train, y_train_probab))\n",
    "print('Test AUC Score:', roc_auc_score(y_test, y_test_probab))"
   ]
  },
  {
   "cell_type": "code",
   "execution_count": 22,
   "id": "90cd123a",
   "metadata": {},
   "outputs": [],
   "source": [
    "# 6. Decision Tree\n",
    "\n",
    "cls = DecisionTreeClassifier(criterion='gini', min_samples_split=3, random_state=42)\n",
    "cls.fit(X_train_final, y_train)\n",
    "\n",
    "y_train_pred = cls.predict(X_train_final)\n",
    "y_train_probab = cls.predict_proba(X_train_final)[:,1]\n",
    "\n",
    "y_test_pred = cls.predict(X_test_final)\n",
    "y_test_probab = cls.predict_proba(X_test_final)[:,1]\n"
   ]
  },
  {
   "cell_type": "code",
   "execution_count": 23,
   "id": "ba252f94",
   "metadata": {},
   "outputs": [
    {
     "name": "stdout",
     "output_type": "stream",
     "text": [
      "Train Log-loss: 0.006204642281228122\n",
      "Test Log-loss 3.670356214027986\n",
      "\n",
      "\n",
      "Train AUC Score: 0.9999579854809827\n",
      "Test AUC Score: 0.888853077318704\n"
     ]
    }
   ],
   "source": [
    "## Logloss\n",
    "print('Train Log-loss:' , log_loss(y_train, y_train_probab))\n",
    "print('Test Log-loss', log_loss(y_test,y_test_probab))\n",
    "\n",
    "## AUC Score\n",
    "print('\\n')\n",
    "print('Train AUC Score:', roc_auc_score(y_train, y_train_probab))\n",
    "print('Test AUC Score:', roc_auc_score(y_test, y_test_probab))"
   ]
  },
  {
   "cell_type": "code",
   "execution_count": 24,
   "id": "af2aa7fb",
   "metadata": {},
   "outputs": [],
   "source": [
    "# 7. Random Forest\n",
    "\n",
    "cls = RandomForestClassifier(n_estimators=500,\n",
    "                             max_depth=None,\n",
    "                             min_samples_split=3,\n",
    "                             n_jobs=1,\n",
    "                             class_weight='balanced',\n",
    "                             random_state=42)\n",
    "cls.fit(X_train_final, y_train)\n",
    "\n",
    "y_train_pred = cls.predict(X_train_final)\n",
    "y_train_probab = cls.predict_proba(X_train_final)[:,1]\n",
    "\n",
    "y_test_pred = cls.predict(X_test_final)\n",
    "y_test_probab = cls.predict_proba(X_test_final)[:,1]\n"
   ]
  },
  {
   "cell_type": "code",
   "execution_count": 25,
   "id": "175ae963",
   "metadata": {},
   "outputs": [
    {
     "name": "stdout",
     "output_type": "stream",
     "text": [
      "Train Log-loss: 0.050555559840196045\n",
      "Test Log-loss 0.14504401589668053\n",
      "\n",
      "\n",
      "Train AUC Score: 0.9999982851216729\n",
      "Test AUC Score: 0.993334476255786\n"
     ]
    }
   ],
   "source": [
    "## Logloss\n",
    "print('Train Log-loss:' , log_loss(y_train, y_train_probab))\n",
    "print('Test Log-loss', log_loss(y_test,y_test_probab))\n",
    "\n",
    "## AUC Score\n",
    "print('\\n')\n",
    "print('Train AUC Score:', roc_auc_score(y_train, y_train_probab))\n",
    "print('Test AUC Score:', roc_auc_score(y_test, y_test_probab))"
   ]
  },
  {
   "cell_type": "code",
   "execution_count": 26,
   "id": "afdc81ff",
   "metadata": {},
   "outputs": [],
   "source": [
    "# 8. XGBoost\n",
    "cls = XGBClassifier(n_estimators=500,\n",
    "                    max_depth=5,\n",
    "                    learning_rate=0.15,\n",
    "                    colsample_bytree=1,\n",
    "                    subsample=1,\n",
    "                    reg_alpha=0.3,\n",
    "                    gamma=10,\n",
    "                    n_jobs=2,\n",
    "                    eval_metric='logloss',\n",
    "                    use_label_encoder=False)\n",
    "\n",
    "cls.fit(X_train_final, y_train)\n",
    "\n",
    "y_train_pred = cls.predict(X_train_final)\n",
    "y_train_probab = cls.predict_proba(X_train_final)[:,1]\n",
    "\n",
    "y_test_pred = cls.predict(X_test_final)\n",
    "y_test_probab = cls.predict_proba(X_test_final)[:,1]\n"
   ]
  },
  {
   "cell_type": "code",
   "execution_count": 27,
   "id": "40decbe8",
   "metadata": {},
   "outputs": [
    {
     "name": "stdout",
     "output_type": "stream",
     "text": [
      "Train Log-loss: 0.14256450472324564\n",
      "Test Log-loss 0.15504043212617794\n",
      "\n",
      "\n",
      "Train AUC Score: 0.9896294876758126\n",
      "Test AUC Score: 0.9883456197496999\n"
     ]
    }
   ],
   "source": [
    "## Logloss\n",
    "print('Train Log-loss:' , log_loss(y_train, y_train_probab))\n",
    "print('Test Log-loss', log_loss(y_test,y_test_probab))\n",
    "\n",
    "## AUC Score\n",
    "print('\\n')\n",
    "print('Train AUC Score:', roc_auc_score(y_train, y_train_probab))\n",
    "print('Test AUC Score:', roc_auc_score(y_test, y_test_probab))"
   ]
  },
  {
   "cell_type": "markdown",
   "id": "ce059359",
   "metadata": {},
   "source": [
    "### Conclusions:\n",
    "1. Based on previous EDA, I decided to include the train, test log-loss and AUC Score metric for selecting a model. \n",
    "2. From the above observation, We can see that the test log-loss is the least for XGBoost model. \n",
    "3. We can also see that the difference between log-loss between train and test data is the least for XGBoost. \n",
    "4. Moreover, we can also conclude that there is no overfitting because the divergence between train and test data determines whether a model is overfititng or underfitting the data. \n",
    "5. Hence, The model selected for test data performance is XGBoost. "
   ]
  },
  {
   "cell_type": "code",
   "execution_count": null,
   "id": "9a293fa7",
   "metadata": {},
   "outputs": [],
   "source": []
  }
 ],
 "metadata": {
  "kernelspec": {
   "display_name": "Python 3",
   "language": "python",
   "name": "python3"
  },
  "language_info": {
   "codemirror_mode": {
    "name": "ipython",
    "version": 3
   },
   "file_extension": ".py",
   "mimetype": "text/x-python",
   "name": "python",
   "nbconvert_exporter": "python",
   "pygments_lexer": "ipython3",
   "version": "3.8.8"
  }
 },
 "nbformat": 4,
 "nbformat_minor": 5
}
