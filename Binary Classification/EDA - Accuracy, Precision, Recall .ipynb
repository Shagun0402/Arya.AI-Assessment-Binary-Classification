{
 "cells": [
  {
   "cell_type": "markdown",
   "id": "90e18ff6",
   "metadata": {},
   "source": [
    "###### Importing external libraries"
   ]
  },
  {
   "cell_type": "code",
   "execution_count": 1,
   "id": "8c721605",
   "metadata": {},
   "outputs": [],
   "source": [
    "import pandas as pd\n",
    "import numpy as np\n",
    "import matplotlib.pyplot as plt\n",
    "%matplotlib inline\n",
    "import seaborn as sns\n",
    "from sklearn.model_selection import train_test_split\n",
    "from sklearn.ensemble import RandomForestClassifier\n",
    "from sklearn.preprocessing import StandardScaler\n",
    "from sklearn.linear_model import LogisticRegression\n",
    "from sklearn.svm import LinearSVC\n",
    "from sklearn.neighbors import KNeighborsClassifier\n",
    "from sklearn.naive_bayes import GaussianNB\n",
    "from sklearn.tree import DecisionTreeClassifier\n",
    "from xgboost import XGBClassifier\n",
    "from sklearn.metrics import roc_auc_score,log_loss, accuracy_score, precision_score, recall_score\n"
   ]
  },
  {
   "cell_type": "markdown",
   "id": "c7a2c3be",
   "metadata": {},
   "source": [
    "#### Data Exploration on Training Set"
   ]
  },
  {
   "cell_type": "code",
   "execution_count": 2,
   "id": "6b2b69db",
   "metadata": {},
   "outputs": [
    {
     "name": "stdout",
     "output_type": "stream",
     "text": [
      "Shape of Data: (3910, 58)\n"
     ]
    },
    {
     "data": {
      "text/html": [
       "<div>\n",
       "<style scoped>\n",
       "    .dataframe tbody tr th:only-of-type {\n",
       "        vertical-align: middle;\n",
       "    }\n",
       "\n",
       "    .dataframe tbody tr th {\n",
       "        vertical-align: top;\n",
       "    }\n",
       "\n",
       "    .dataframe thead th {\n",
       "        text-align: right;\n",
       "    }\n",
       "</style>\n",
       "<table border=\"1\" class=\"dataframe\">\n",
       "  <thead>\n",
       "    <tr style=\"text-align: right;\">\n",
       "      <th></th>\n",
       "      <th>X1</th>\n",
       "      <th>X2</th>\n",
       "      <th>X3</th>\n",
       "      <th>X4</th>\n",
       "      <th>X5</th>\n",
       "      <th>X6</th>\n",
       "      <th>X7</th>\n",
       "      <th>X8</th>\n",
       "      <th>X9</th>\n",
       "      <th>X10</th>\n",
       "      <th>...</th>\n",
       "      <th>X49</th>\n",
       "      <th>X50</th>\n",
       "      <th>X51</th>\n",
       "      <th>X52</th>\n",
       "      <th>X53</th>\n",
       "      <th>X54</th>\n",
       "      <th>X55</th>\n",
       "      <th>X56</th>\n",
       "      <th>X57</th>\n",
       "      <th>Y</th>\n",
       "    </tr>\n",
       "  </thead>\n",
       "  <tbody>\n",
       "    <tr>\n",
       "      <th>0</th>\n",
       "      <td>0.00</td>\n",
       "      <td>0.00</td>\n",
       "      <td>4.34</td>\n",
       "      <td>0.00</td>\n",
       "      <td>0.00</td>\n",
       "      <td>0.00</td>\n",
       "      <td>0.00</td>\n",
       "      <td>0.00</td>\n",
       "      <td>0.0</td>\n",
       "      <td>0.00</td>\n",
       "      <td>...</td>\n",
       "      <td>0.0</td>\n",
       "      <td>0.000</td>\n",
       "      <td>0.0</td>\n",
       "      <td>1.342</td>\n",
       "      <td>0.000</td>\n",
       "      <td>0.000</td>\n",
       "      <td>1.200</td>\n",
       "      <td>2</td>\n",
       "      <td>12</td>\n",
       "      <td>0</td>\n",
       "    </tr>\n",
       "    <tr>\n",
       "      <th>1</th>\n",
       "      <td>0.00</td>\n",
       "      <td>0.56</td>\n",
       "      <td>0.56</td>\n",
       "      <td>0.00</td>\n",
       "      <td>1.12</td>\n",
       "      <td>0.56</td>\n",
       "      <td>2.25</td>\n",
       "      <td>0.00</td>\n",
       "      <td>0.0</td>\n",
       "      <td>0.56</td>\n",
       "      <td>...</td>\n",
       "      <td>0.0</td>\n",
       "      <td>0.083</td>\n",
       "      <td>0.0</td>\n",
       "      <td>0.503</td>\n",
       "      <td>0.000</td>\n",
       "      <td>0.083</td>\n",
       "      <td>16.304</td>\n",
       "      <td>148</td>\n",
       "      <td>375</td>\n",
       "      <td>1</td>\n",
       "    </tr>\n",
       "    <tr>\n",
       "      <th>2</th>\n",
       "      <td>0.00</td>\n",
       "      <td>0.00</td>\n",
       "      <td>0.00</td>\n",
       "      <td>0.00</td>\n",
       "      <td>0.00</td>\n",
       "      <td>0.00</td>\n",
       "      <td>0.00</td>\n",
       "      <td>0.00</td>\n",
       "      <td>0.0</td>\n",
       "      <td>0.00</td>\n",
       "      <td>...</td>\n",
       "      <td>0.0</td>\n",
       "      <td>0.000</td>\n",
       "      <td>0.0</td>\n",
       "      <td>0.000</td>\n",
       "      <td>0.000</td>\n",
       "      <td>0.000</td>\n",
       "      <td>1.000</td>\n",
       "      <td>1</td>\n",
       "      <td>5</td>\n",
       "      <td>0</td>\n",
       "    </tr>\n",
       "    <tr>\n",
       "      <th>3</th>\n",
       "      <td>0.64</td>\n",
       "      <td>0.00</td>\n",
       "      <td>0.64</td>\n",
       "      <td>0.00</td>\n",
       "      <td>1.93</td>\n",
       "      <td>0.00</td>\n",
       "      <td>0.00</td>\n",
       "      <td>0.00</td>\n",
       "      <td>0.0</td>\n",
       "      <td>0.00</td>\n",
       "      <td>...</td>\n",
       "      <td>0.0</td>\n",
       "      <td>0.000</td>\n",
       "      <td>0.0</td>\n",
       "      <td>0.462</td>\n",
       "      <td>0.370</td>\n",
       "      <td>0.000</td>\n",
       "      <td>2.440</td>\n",
       "      <td>22</td>\n",
       "      <td>122</td>\n",
       "      <td>1</td>\n",
       "    </tr>\n",
       "    <tr>\n",
       "      <th>4</th>\n",
       "      <td>0.58</td>\n",
       "      <td>0.00</td>\n",
       "      <td>0.00</td>\n",
       "      <td>35.46</td>\n",
       "      <td>0.58</td>\n",
       "      <td>0.00</td>\n",
       "      <td>0.58</td>\n",
       "      <td>0.58</td>\n",
       "      <td>0.0</td>\n",
       "      <td>0.00</td>\n",
       "      <td>...</td>\n",
       "      <td>0.0</td>\n",
       "      <td>0.000</td>\n",
       "      <td>0.0</td>\n",
       "      <td>0.239</td>\n",
       "      <td>0.239</td>\n",
       "      <td>0.000</td>\n",
       "      <td>3.338</td>\n",
       "      <td>123</td>\n",
       "      <td>207</td>\n",
       "      <td>1</td>\n",
       "    </tr>\n",
       "  </tbody>\n",
       "</table>\n",
       "<p>5 rows × 58 columns</p>\n",
       "</div>"
      ],
      "text/plain": [
       "     X1    X2    X3     X4    X5    X6    X7    X8   X9   X10  ...  X49  \\\n",
       "0  0.00  0.00  4.34   0.00  0.00  0.00  0.00  0.00  0.0  0.00  ...  0.0   \n",
       "1  0.00  0.56  0.56   0.00  1.12  0.56  2.25  0.00  0.0  0.56  ...  0.0   \n",
       "2  0.00  0.00  0.00   0.00  0.00  0.00  0.00  0.00  0.0  0.00  ...  0.0   \n",
       "3  0.64  0.00  0.64   0.00  1.93  0.00  0.00  0.00  0.0  0.00  ...  0.0   \n",
       "4  0.58  0.00  0.00  35.46  0.58  0.00  0.58  0.58  0.0  0.00  ...  0.0   \n",
       "\n",
       "     X50  X51    X52    X53    X54     X55  X56  X57  Y  \n",
       "0  0.000  0.0  1.342  0.000  0.000   1.200    2   12  0  \n",
       "1  0.083  0.0  0.503  0.000  0.083  16.304  148  375  1  \n",
       "2  0.000  0.0  0.000  0.000  0.000   1.000    1    5  0  \n",
       "3  0.000  0.0  0.462  0.370  0.000   2.440   22  122  1  \n",
       "4  0.000  0.0  0.239  0.239  0.000   3.338  123  207  1  \n",
       "\n",
       "[5 rows x 58 columns]"
      ]
     },
     "execution_count": 2,
     "metadata": {},
     "output_type": "execute_result"
    }
   ],
   "source": [
    "# Loading the train data\n",
    "df = pd.read_csv('../Binary Classification/dataset/training_set.csv', index_col=0)\n",
    "#shape of data\n",
    "print('Shape of Data:' , df.shape)\n",
    "\n",
    "# Peek the first 5 rows of data\n",
    "df.head(5)"
   ]
  },
  {
   "cell_type": "code",
   "execution_count": 3,
   "id": "60f7464a",
   "metadata": {},
   "outputs": [
    {
     "data": {
      "text/plain": [
       "0    0.607673\n",
       "1    0.392327\n",
       "Name: Y, dtype: float64"
      ]
     },
     "execution_count": 3,
     "metadata": {},
     "output_type": "execute_result"
    }
   ],
   "source": [
    "# Checking Y distribution \n",
    "df['Y'].value_counts(normalize=True)"
   ]
  },
  {
   "cell_type": "code",
   "execution_count": 4,
   "id": "38bf1973",
   "metadata": {},
   "outputs": [
    {
     "data": {
      "text/plain": [
       "X1     0\n",
       "X2     0\n",
       "X3     0\n",
       "X4     0\n",
       "X5     0\n",
       "X6     0\n",
       "X7     0\n",
       "X8     0\n",
       "X9     0\n",
       "X10    0\n",
       "X11    0\n",
       "X12    0\n",
       "X13    0\n",
       "X14    0\n",
       "X15    0\n",
       "X16    0\n",
       "X17    0\n",
       "X18    0\n",
       "X19    0\n",
       "X20    0\n",
       "X21    0\n",
       "X22    0\n",
       "X23    0\n",
       "X24    0\n",
       "X25    0\n",
       "X26    0\n",
       "X27    0\n",
       "X28    0\n",
       "X29    0\n",
       "X30    0\n",
       "X31    0\n",
       "X32    0\n",
       "X33    0\n",
       "X34    0\n",
       "X35    0\n",
       "X36    0\n",
       "X37    0\n",
       "X38    0\n",
       "X39    0\n",
       "X40    0\n",
       "X41    0\n",
       "X42    0\n",
       "X43    0\n",
       "X44    0\n",
       "X45    0\n",
       "X46    0\n",
       "X47    0\n",
       "X48    0\n",
       "X49    0\n",
       "X50    0\n",
       "X51    0\n",
       "X52    0\n",
       "X53    0\n",
       "X54    0\n",
       "X55    0\n",
       "X56    0\n",
       "X57    0\n",
       "Y      0\n",
       "dtype: int64"
      ]
     },
     "execution_count": 4,
     "metadata": {},
     "output_type": "execute_result"
    }
   ],
   "source": [
    "# Checking for null and missing values\n",
    "df.isna().sum()"
   ]
  },
  {
   "cell_type": "code",
   "execution_count": 5,
   "id": "40a30df0",
   "metadata": {},
   "outputs": [
    {
     "data": {
      "text/html": [
       "<div>\n",
       "<style scoped>\n",
       "    .dataframe tbody tr th:only-of-type {\n",
       "        vertical-align: middle;\n",
       "    }\n",
       "\n",
       "    .dataframe tbody tr th {\n",
       "        vertical-align: top;\n",
       "    }\n",
       "\n",
       "    .dataframe thead th {\n",
       "        text-align: right;\n",
       "    }\n",
       "</style>\n",
       "<table border=\"1\" class=\"dataframe\">\n",
       "  <thead>\n",
       "    <tr style=\"text-align: right;\">\n",
       "      <th></th>\n",
       "      <th>X1</th>\n",
       "      <th>X2</th>\n",
       "      <th>X3</th>\n",
       "      <th>X4</th>\n",
       "      <th>X5</th>\n",
       "      <th>X6</th>\n",
       "      <th>X7</th>\n",
       "      <th>X8</th>\n",
       "      <th>X9</th>\n",
       "      <th>X10</th>\n",
       "      <th>...</th>\n",
       "      <th>X49</th>\n",
       "      <th>X50</th>\n",
       "      <th>X51</th>\n",
       "      <th>X52</th>\n",
       "      <th>X53</th>\n",
       "      <th>X54</th>\n",
       "      <th>X55</th>\n",
       "      <th>X56</th>\n",
       "      <th>X57</th>\n",
       "      <th>Y</th>\n",
       "    </tr>\n",
       "  </thead>\n",
       "  <tbody>\n",
       "    <tr>\n",
       "      <th>count</th>\n",
       "      <td>3910.000000</td>\n",
       "      <td>3910.000000</td>\n",
       "      <td>3910.000000</td>\n",
       "      <td>3910.000000</td>\n",
       "      <td>3910.000000</td>\n",
       "      <td>3910.000000</td>\n",
       "      <td>3910.000000</td>\n",
       "      <td>3910.000000</td>\n",
       "      <td>3910.000000</td>\n",
       "      <td>3910.000000</td>\n",
       "      <td>...</td>\n",
       "      <td>3910.000000</td>\n",
       "      <td>3910.000000</td>\n",
       "      <td>3910.000000</td>\n",
       "      <td>3910.000000</td>\n",
       "      <td>3910.000000</td>\n",
       "      <td>3910.000000</td>\n",
       "      <td>3910.000000</td>\n",
       "      <td>3910.000000</td>\n",
       "      <td>3910.000000</td>\n",
       "      <td>3910.000000</td>\n",
       "    </tr>\n",
       "    <tr>\n",
       "      <th>mean</th>\n",
       "      <td>0.102990</td>\n",
       "      <td>0.206419</td>\n",
       "      <td>0.284419</td>\n",
       "      <td>0.062074</td>\n",
       "      <td>0.311309</td>\n",
       "      <td>0.095974</td>\n",
       "      <td>0.112320</td>\n",
       "      <td>0.106041</td>\n",
       "      <td>0.091146</td>\n",
       "      <td>0.244345</td>\n",
       "      <td>...</td>\n",
       "      <td>0.037493</td>\n",
       "      <td>0.139252</td>\n",
       "      <td>0.015876</td>\n",
       "      <td>0.272971</td>\n",
       "      <td>0.077820</td>\n",
       "      <td>0.043828</td>\n",
       "      <td>5.047150</td>\n",
       "      <td>52.338107</td>\n",
       "      <td>283.059079</td>\n",
       "      <td>0.392327</td>\n",
       "    </tr>\n",
       "    <tr>\n",
       "      <th>std</th>\n",
       "      <td>0.296322</td>\n",
       "      <td>1.253828</td>\n",
       "      <td>0.504352</td>\n",
       "      <td>1.369361</td>\n",
       "      <td>0.656195</td>\n",
       "      <td>0.261455</td>\n",
       "      <td>0.389516</td>\n",
       "      <td>0.398694</td>\n",
       "      <td>0.271417</td>\n",
       "      <td>0.667065</td>\n",
       "      <td>...</td>\n",
       "      <td>0.235054</td>\n",
       "      <td>0.276309</td>\n",
       "      <td>0.083600</td>\n",
       "      <td>0.858634</td>\n",
       "      <td>0.256991</td>\n",
       "      <td>0.452862</td>\n",
       "      <td>31.397035</td>\n",
       "      <td>204.445218</td>\n",
       "      <td>578.339858</td>\n",
       "      <td>0.488331</td>\n",
       "    </tr>\n",
       "    <tr>\n",
       "      <th>min</th>\n",
       "      <td>0.000000</td>\n",
       "      <td>0.000000</td>\n",
       "      <td>0.000000</td>\n",
       "      <td>0.000000</td>\n",
       "      <td>0.000000</td>\n",
       "      <td>0.000000</td>\n",
       "      <td>0.000000</td>\n",
       "      <td>0.000000</td>\n",
       "      <td>0.000000</td>\n",
       "      <td>0.000000</td>\n",
       "      <td>...</td>\n",
       "      <td>0.000000</td>\n",
       "      <td>0.000000</td>\n",
       "      <td>0.000000</td>\n",
       "      <td>0.000000</td>\n",
       "      <td>0.000000</td>\n",
       "      <td>0.000000</td>\n",
       "      <td>1.000000</td>\n",
       "      <td>1.000000</td>\n",
       "      <td>1.000000</td>\n",
       "      <td>0.000000</td>\n",
       "    </tr>\n",
       "    <tr>\n",
       "      <th>25%</th>\n",
       "      <td>0.000000</td>\n",
       "      <td>0.000000</td>\n",
       "      <td>0.000000</td>\n",
       "      <td>0.000000</td>\n",
       "      <td>0.000000</td>\n",
       "      <td>0.000000</td>\n",
       "      <td>0.000000</td>\n",
       "      <td>0.000000</td>\n",
       "      <td>0.000000</td>\n",
       "      <td>0.000000</td>\n",
       "      <td>...</td>\n",
       "      <td>0.000000</td>\n",
       "      <td>0.000000</td>\n",
       "      <td>0.000000</td>\n",
       "      <td>0.000000</td>\n",
       "      <td>0.000000</td>\n",
       "      <td>0.000000</td>\n",
       "      <td>1.580750</td>\n",
       "      <td>6.000000</td>\n",
       "      <td>35.000000</td>\n",
       "      <td>0.000000</td>\n",
       "    </tr>\n",
       "    <tr>\n",
       "      <th>50%</th>\n",
       "      <td>0.000000</td>\n",
       "      <td>0.000000</td>\n",
       "      <td>0.000000</td>\n",
       "      <td>0.000000</td>\n",
       "      <td>0.000000</td>\n",
       "      <td>0.000000</td>\n",
       "      <td>0.000000</td>\n",
       "      <td>0.000000</td>\n",
       "      <td>0.000000</td>\n",
       "      <td>0.000000</td>\n",
       "      <td>...</td>\n",
       "      <td>0.000000</td>\n",
       "      <td>0.066000</td>\n",
       "      <td>0.000000</td>\n",
       "      <td>0.000000</td>\n",
       "      <td>0.000000</td>\n",
       "      <td>0.000000</td>\n",
       "      <td>2.263500</td>\n",
       "      <td>15.000000</td>\n",
       "      <td>94.000000</td>\n",
       "      <td>0.000000</td>\n",
       "    </tr>\n",
       "    <tr>\n",
       "      <th>75%</th>\n",
       "      <td>0.000000</td>\n",
       "      <td>0.000000</td>\n",
       "      <td>0.430000</td>\n",
       "      <td>0.000000</td>\n",
       "      <td>0.387500</td>\n",
       "      <td>0.000000</td>\n",
       "      <td>0.000000</td>\n",
       "      <td>0.000000</td>\n",
       "      <td>0.000000</td>\n",
       "      <td>0.170000</td>\n",
       "      <td>...</td>\n",
       "      <td>0.000000</td>\n",
       "      <td>0.188000</td>\n",
       "      <td>0.000000</td>\n",
       "      <td>0.317250</td>\n",
       "      <td>0.054000</td>\n",
       "      <td>0.000000</td>\n",
       "      <td>3.714000</td>\n",
       "      <td>43.000000</td>\n",
       "      <td>264.000000</td>\n",
       "      <td>1.000000</td>\n",
       "    </tr>\n",
       "    <tr>\n",
       "      <th>max</th>\n",
       "      <td>4.340000</td>\n",
       "      <td>14.280000</td>\n",
       "      <td>4.540000</td>\n",
       "      <td>42.810000</td>\n",
       "      <td>9.090000</td>\n",
       "      <td>3.570000</td>\n",
       "      <td>7.270000</td>\n",
       "      <td>11.110000</td>\n",
       "      <td>3.230000</td>\n",
       "      <td>18.180000</td>\n",
       "      <td>...</td>\n",
       "      <td>4.385000</td>\n",
       "      <td>9.752000</td>\n",
       "      <td>2.777000</td>\n",
       "      <td>32.478000</td>\n",
       "      <td>6.003000</td>\n",
       "      <td>19.829000</td>\n",
       "      <td>1102.500000</td>\n",
       "      <td>9989.000000</td>\n",
       "      <td>10062.000000</td>\n",
       "      <td>1.000000</td>\n",
       "    </tr>\n",
       "  </tbody>\n",
       "</table>\n",
       "<p>8 rows × 58 columns</p>\n",
       "</div>"
      ],
      "text/plain": [
       "                X1           X2           X3           X4           X5  \\\n",
       "count  3910.000000  3910.000000  3910.000000  3910.000000  3910.000000   \n",
       "mean      0.102990     0.206419     0.284419     0.062074     0.311309   \n",
       "std       0.296322     1.253828     0.504352     1.369361     0.656195   \n",
       "min       0.000000     0.000000     0.000000     0.000000     0.000000   \n",
       "25%       0.000000     0.000000     0.000000     0.000000     0.000000   \n",
       "50%       0.000000     0.000000     0.000000     0.000000     0.000000   \n",
       "75%       0.000000     0.000000     0.430000     0.000000     0.387500   \n",
       "max       4.340000    14.280000     4.540000    42.810000     9.090000   \n",
       "\n",
       "                X6           X7           X8           X9          X10  ...  \\\n",
       "count  3910.000000  3910.000000  3910.000000  3910.000000  3910.000000  ...   \n",
       "mean      0.095974     0.112320     0.106041     0.091146     0.244345  ...   \n",
       "std       0.261455     0.389516     0.398694     0.271417     0.667065  ...   \n",
       "min       0.000000     0.000000     0.000000     0.000000     0.000000  ...   \n",
       "25%       0.000000     0.000000     0.000000     0.000000     0.000000  ...   \n",
       "50%       0.000000     0.000000     0.000000     0.000000     0.000000  ...   \n",
       "75%       0.000000     0.000000     0.000000     0.000000     0.170000  ...   \n",
       "max       3.570000     7.270000    11.110000     3.230000    18.180000  ...   \n",
       "\n",
       "               X49          X50          X51          X52          X53  \\\n",
       "count  3910.000000  3910.000000  3910.000000  3910.000000  3910.000000   \n",
       "mean      0.037493     0.139252     0.015876     0.272971     0.077820   \n",
       "std       0.235054     0.276309     0.083600     0.858634     0.256991   \n",
       "min       0.000000     0.000000     0.000000     0.000000     0.000000   \n",
       "25%       0.000000     0.000000     0.000000     0.000000     0.000000   \n",
       "50%       0.000000     0.066000     0.000000     0.000000     0.000000   \n",
       "75%       0.000000     0.188000     0.000000     0.317250     0.054000   \n",
       "max       4.385000     9.752000     2.777000    32.478000     6.003000   \n",
       "\n",
       "               X54          X55          X56           X57            Y  \n",
       "count  3910.000000  3910.000000  3910.000000   3910.000000  3910.000000  \n",
       "mean      0.043828     5.047150    52.338107    283.059079     0.392327  \n",
       "std       0.452862    31.397035   204.445218    578.339858     0.488331  \n",
       "min       0.000000     1.000000     1.000000      1.000000     0.000000  \n",
       "25%       0.000000     1.580750     6.000000     35.000000     0.000000  \n",
       "50%       0.000000     2.263500    15.000000     94.000000     0.000000  \n",
       "75%       0.000000     3.714000    43.000000    264.000000     1.000000  \n",
       "max      19.829000  1102.500000  9989.000000  10062.000000     1.000000  \n",
       "\n",
       "[8 rows x 58 columns]"
      ]
     },
     "execution_count": 5,
     "metadata": {},
     "output_type": "execute_result"
    }
   ],
   "source": [
    "# Getting insights in data\n",
    "df.describe()"
   ]
  },
  {
   "cell_type": "markdown",
   "id": "6c78545d",
   "metadata": {},
   "source": [
    "###### Defining exploratory variables and target variables"
   ]
  },
  {
   "cell_type": "code",
   "execution_count": 6,
   "id": "7eacb6d2",
   "metadata": {},
   "outputs": [],
   "source": [
    "# Setting up x and Y values\n",
    "X = df.drop(['Y'], axis=1)\n",
    "y = df['Y']"
   ]
  },
  {
   "cell_type": "code",
   "execution_count": 7,
   "id": "ec6a5880",
   "metadata": {},
   "outputs": [],
   "source": [
    "# Splitting data into training and validation sets\n",
    "X_train, X_test,y_train, y_test= train_test_split(X,y, test_size=0.2, stratify=y, random_state=42)"
   ]
  },
  {
   "cell_type": "code",
   "execution_count": 8,
   "id": "9085d08b",
   "metadata": {},
   "outputs": [
    {
     "data": {
      "text/plain": [
       "(3128, 57)"
      ]
     },
     "execution_count": 8,
     "metadata": {},
     "output_type": "execute_result"
    }
   ],
   "source": [
    "# Shape of training data\n",
    "X_train.shape"
   ]
  },
  {
   "cell_type": "markdown",
   "id": "dbc33633",
   "metadata": {},
   "source": [
    "##### Feature Selection using Random Forest Classifier"
   ]
  },
  {
   "cell_type": "code",
   "execution_count": 9,
   "id": "bd8ae2ef",
   "metadata": {},
   "outputs": [],
   "source": [
    "cls = RandomForestClassifier(100, max_depth=None, n_jobs=-1)\n",
    "cls.fit(X_train, y_train)\n",
    "feature_imp = cls.feature_importances_"
   ]
  },
  {
   "cell_type": "code",
   "execution_count": 10,
   "id": "e40d615b",
   "metadata": {},
   "outputs": [
    {
     "data": {
      "image/png": "[encoded data removed]",
      "text/plain": [
       "<Figure size 432x288 with 1 Axes>"
      ]
     },
     "metadata": {
      "needs_background": "light"
     },
     "output_type": "display_data"
    }
   ],
   "source": [
    "# Visualizing the features based on feature importances\n",
    "x = [ x for x in range(X_train.shape[1])]\n",
    "plt.plot(x, feature_imp)\n",
    "plt.xlabel('Features')\n",
    "plt.ylabel('FI')\n",
    "plt.title('Feature Importance')\n",
    "plt.show()"
   ]
  },
  {
   "cell_type": "code",
   "execution_count": 11,
   "id": "9efb3cf5",
   "metadata": {},
   "outputs": [
    {
     "name": "stdout",
     "output_type": "stream",
     "text": [
      "Features with greater importance than average: 15\n"
     ]
    }
   ],
   "source": [
    "# Selecting features with greater importance than average\n",
    "mean_imp = np.mean(feature_imp)\n",
    "top_imp = len(np.where(feature_imp > mean_imp)[0])\n",
    "print('Features with greater importance than average:' , top_imp)"
   ]
  },
  {
   "cell_type": "code",
   "execution_count": 12,
   "id": "f81169f0",
   "metadata": {},
   "outputs": [
    {
     "data": {
      "image/png": "[encoded data removed]",
      "text/plain": [
       "<Figure size 432x288 with 1 Axes>"
      ]
     },
     "metadata": {
      "needs_background": "light"
     },
     "output_type": "display_data"
    }
   ],
   "source": [
    "# Cummulative Distribution Function plot for Feature Importance\n",
    "plt.plot(np.cumsum(sorted(feature_imp, reverse=True)))\n",
    "plt.title('CDF Plot- Feature Importance')\n",
    "plt.xlabel('Features')\n",
    "plt.ylabel('Feature Importance')\n",
    "plt.show()"
   ]
  },
  {
   "cell_type": "markdown",
   "id": "ac613377",
   "metadata": {},
   "source": [
    "###### Ranking features based on feature importances"
   ]
  },
  {
   "cell_type": "code",
   "execution_count": 13,
   "id": "5f91a168",
   "metadata": {},
   "outputs": [],
   "source": [
    "# Ranking features based on their importances\n",
    "imp = sorted(zip(X.columns, feature_imp), key=lambda x: x[1], reverse=True)\n",
    "# Extracting top 30 features based on cdf plot\n",
    "features = [x[0] for x in imp[:30]]"
   ]
  },
  {
   "cell_type": "code",
   "execution_count": 14,
   "id": "962baf4e",
   "metadata": {},
   "outputs": [
    {
     "name": "stdout",
     "output_type": "stream",
     "text": [
      "Shape of new X_train data:  (3128, 30)\n",
      "Shape of new X_test data: (782, 30)\n"
     ]
    }
   ],
   "source": [
    "X_train_final = X_train[features]\n",
    "X_test_final = X_test[features]\n",
    "\n",
    "# Shape of X_train_final\n",
    "print('Shape of new X_train data: ', X_train_final.shape)\n",
    "print('Shape of new X_test data:' , X_test_final.shape)"
   ]
  },
  {
   "cell_type": "markdown",
   "id": "6ffdbc14",
   "metadata": {},
   "source": [
    "###### Normalizing data to achieve numerical stability using Standard Scaler"
   ]
  },
  {
   "cell_type": "code",
   "execution_count": 15,
   "id": "818b3e7f",
   "metadata": {},
   "outputs": [],
   "source": [
    "scaler = StandardScaler()\n",
    "scaler.fit(X_train_final)\n",
    "\n",
    "# Transforming the data\n",
    "X_train_final = pd.DataFrame(scaler.transform(X_train_final), columns=X_train_final.columns)\n",
    "X_test_final = pd.DataFrame(scaler.transform(X_test_final), columns=X_test_final.columns)"
   ]
  },
  {
   "cell_type": "markdown",
   "id": "d2a43b4e",
   "metadata": {},
   "source": [
    "### Model Training\n",
    "1. Logistic Regression\n",
    "2. Naive-Bayes Classifier\n",
    "3. Support Vector Machine\n",
    "4. K-Nearest Neighbor\n",
    "5. Decision Tree\n",
    "6. Random Forest Classifier\n",
    "7. XG Boost Classifier"
   ]
  },
  {
   "cell_type": "code",
   "execution_count": 16,
   "id": "d916b882",
   "metadata": {},
   "outputs": [],
   "source": [
    "models = {}\n",
    "\n",
    "# 1. Logistic Regression\n",
    "models['Logistic Regression'] = LogisticRegression(C=1, penalty='l2', max_iter=250, random_state=42)\n",
    "\n",
    "# 2. Naive- Bayes\n",
    "models['Naive Bayes'] = GaussianNB()\n",
    "\n",
    "# 3. Support Vector Machine\n",
    "models['Support Vector Machine'] = LinearSVC(penalty='l2', max_iter=250, random_state=42,tol=1e-5)\n",
    "\n",
    "# 4. K- Nearest Neighbor\n",
    "models['K-Nearest Neighbors'] = KNeighborsClassifier()\n",
    "\n",
    "# 5. Decision Tree\n",
    "models['Decision Tree'] = DecisionTreeClassifier(criterion='gini', min_samples_split=3, random_state=42)\n",
    "\n",
    "# 6. Random Forest Classifier\n",
    "models['Random Forest'] = RandomForestClassifier(n_estimators=500,\n",
    "                             max_depth=None,\n",
    "                             min_samples_split=3,\n",
    "                             n_jobs=1,\n",
    "                             class_weight='balanced',\n",
    "                             random_state=42)\n",
    "# 7. XGBoost Classifier\n",
    "models['XG Boost'] = XGBClassifier(n_estimators=500,\n",
    "                    max_depth=5,\n",
    "                    learning_rate=0.15,\n",
    "                    colsample_bytree=1,\n",
    "                    subsample=1,\n",
    "                    reg_alpha=0.3,\n",
    "                    gamma=10,\n",
    "                    n_jobs=2,\n",
    "                    eval_metric='logloss',\n",
    "                    use_label_encoder=False)\n"
   ]
  },
  {
   "cell_type": "code",
   "execution_count": 17,
   "id": "edcee3a0",
   "metadata": {},
   "outputs": [
    {
     "name": "stderr",
     "output_type": "stream",
     "text": [
      "C:\\Users\\shagu\\anaconda3\\lib\\site-packages\\sklearn\\svm\\_base.py:985: ConvergenceWarning: Liblinear failed to converge, increase the number of iterations.\n",
      "  warnings.warn(\"Liblinear failed to converge, increase \"\n"
     ]
    }
   ],
   "source": [
    "accuracy,precision, recall = {}, {}, {}\n",
    "\n",
    "for k in models.keys():\n",
    "    \n",
    "    # Fit the classifier model\n",
    "    models[k].fit(X_train_final, y_train)\n",
    "    \n",
    "    # Predictions on classifier models\n",
    "    predictions = models[k].predict(X_test_final)\n",
    "    \n",
    "    \n",
    "    # Calculating Metrics - Accuracy, Precision, Recall\n",
    "    accuracy[k] = accuracy_score(predictions,y_test)\n",
    "    precision[k] = precision_score(predictions,y_test)\n",
    "    recall[k] = recall_score(predictions, y_test)\n",
    "    "
   ]
  },
  {
   "cell_type": "code",
   "execution_count": 18,
   "id": "499c0396",
   "metadata": {},
   "outputs": [
    {
     "name": "stdout",
     "output_type": "stream",
     "text": [
      "                        Accuracy  Precision    Recall\n",
      "Logistic Regression     0.914322   0.846906  0.928571\n",
      "Naive Bayes             0.884910   0.934853  0.803922\n",
      "Support Vector Machine  0.909207   0.846906  0.915493\n",
      "K-Nearest Neighbors     0.897698   0.843648  0.890034\n",
      "Decision Tree           0.904092   0.876221  0.879085\n",
      "Random Forest           0.951407   0.915309  0.959044\n",
      "XG Boost                0.950128   0.918567  0.952703\n"
     ]
    }
   ],
   "source": [
    "# Consolidating all the evaluation metrics for all the models\n",
    "df_models = pd.DataFrame(index=models.keys(), \n",
    "                         columns=['Accuracy', 'Precision', 'Recall'])\n",
    "df_models['Accuracy'] = accuracy.values()\n",
    "df_models['Precision'] = precision.values()\n",
    "df_models['Recall'] = recall.values()\n",
    "\n",
    "print(df_models)"
   ]
  },
  {
   "cell_type": "code",
   "execution_count": 19,
   "id": "8ccdbceb",
   "metadata": {},
   "outputs": [
    {
     "data": {
      "text/plain": [
       "Text(0.5, 1.0, 'Training Model Performance')"
      ]
     },
     "execution_count": 19,
     "metadata": {},
     "output_type": "execute_result"
    },
    {
     "data": {
      "image/png": "[encoded data removed]",
      "text/plain": [
       "<Figure size 432x288 with 1 Axes>"
      ]
     },
     "metadata": {
      "needs_background": "light"
     },
     "output_type": "display_data"
    }
   ],
   "source": [
    "# Visualization of accuracy, precision, recall for all models\n",
    "ax  = df_models.plot.bar(rot=45)\n",
    "ax.legend(ncol= len(models.keys()), bbox_to_anchor=(0, 1), loc='lower left', prop={'size': 14})\n",
    "plt.tight_layout()\n",
    "plt.title('Training Model Performance')\n"
   ]
  },
  {
   "cell_type": "markdown",
   "id": "23322110",
   "metadata": {},
   "source": [
    "## Conclusion: \n",
    "\n",
    "1. Based on the graph, we can easily see that XGBoost has the best performance amongst all the models.\n",
    "2. However, we will dig deeper and use log-loss and AUC Score as evaluation metrics to see the performance on train and test data. \n",
    "3. Based on accuracy, precision, recall score we can see the model performance however it is difficult to determine if the model is overfitting or underfitting the data. \n",
    "4. We will have to dive deeper in the log-loss values to check the divergence of probabilities to determine the best performing model. \n"
   ]
  },
  {
   "cell_type": "code",
   "execution_count": null,
   "id": "707e0cbf",
   "metadata": {},
   "outputs": [],
   "source": []
  }
 ],
 "metadata": {
  "kernelspec": {
   "display_name": "Python 3",
   "language": "python",
   "name": "python3"
  },
  "language_info": {
   "codemirror_mode": {
    "name": "ipython",
    "version": 3
   },
   "file_extension": ".py",
   "mimetype": "text/x-python",
   "name": "python",
   "nbconvert_exporter": "python",
   "pygments_lexer": "ipython3",
   "version": "3.8.8"
  }
 },
 "nbformat": 4,
 "nbformat_minor": 5
}
